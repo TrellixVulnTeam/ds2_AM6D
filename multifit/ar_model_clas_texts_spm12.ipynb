{
  "nbformat": 4,
  "nbformat_minor": 0,
  "metadata": {
    "colab": {
      "name": "ar_model_clas_texts_spm12.ipynb",
      "provenance": [],
      "collapsed_sections": [],
      "toc_visible": true
    },
    "kernelspec": {
      "name": "python3",
      "display_name": "Python 3"
    },
    "accelerator": "GPU"
  },
  "cells": [
    {
      "cell_type": "code",
      "metadata": {
        "id": "nzkASkN-zJ4J",
        "colab_type": "code",
        "colab": {}
      },
      "source": [
        "#============================== Classification Test ====================================================\n",
        "# the idea here is to test different types of texts - Qur'aan, Hadith, Poetry, modern text (news, novels, social media, ...)\n",
        "# this notebook explores only the first 3 categories"
      ],
      "execution_count": 0,
      "outputs": []
    },
    {
      "cell_type": "code",
      "metadata": {
        "id": "3Ncji5It6W-w",
        "colab_type": "code",
        "colab": {
          "base_uri": "https://localhost:8080/",
          "height": 972
        },
        "outputId": "e91546cd-b07c-4e79-a55a-3bd74f20fdda"
      },
      "source": [
        "!pip uninstall fastai --y\n",
        "!pip install ninja\n",
        "!pip install sentencepiece\n",
        "!pip install fastai==1.0.57  # restart runtime then if done after fastai is imported"
      ],
      "execution_count": 1,
      "outputs": [
        {
          "output_type": "stream",
          "text": [
            "Uninstalling fastai-1.0.60:\n",
            "  Successfully uninstalled fastai-1.0.60\n",
            "Collecting ninja\n",
            "\u001b[?25l  Downloading https://files.pythonhosted.org/packages/cc/bf/32e5dd5cce6543374e4050a7292099402ab80787eddf3732810a55b37763/ninja-1.9.0.post1-py3-none-manylinux1_x86_64.whl (98kB)\n",
            "\u001b[K     |████████████████████████████████| 102kB 5.5MB/s \n",
            "\u001b[?25hInstalling collected packages: ninja\n",
            "Successfully installed ninja-1.9.0.post1\n",
            "Collecting sentencepiece\n",
            "\u001b[?25l  Downloading https://files.pythonhosted.org/packages/74/f4/2d5214cbf13d06e7cb2c20d84115ca25b53ea76fa1f0ade0e3c9749de214/sentencepiece-0.1.85-cp36-cp36m-manylinux1_x86_64.whl (1.0MB)\n",
            "\u001b[K     |████████████████████████████████| 1.0MB 9.2MB/s \n",
            "\u001b[?25hInstalling collected packages: sentencepiece\n",
            "Successfully installed sentencepiece-0.1.85\n",
            "Collecting fastai==1.0.57\n",
            "\u001b[?25l  Downloading https://files.pythonhosted.org/packages/c1/e2/42342ded0385d694e3250e74f43f0dc9a3ff3d5c2241a2ddd98236b5f9de/fastai-1.0.57-py3-none-any.whl (233kB)\n",
            "\u001b[K     |████████████████████████████████| 235kB 9.3MB/s \n",
            "\u001b[?25hRequirement already satisfied: scipy in /usr/local/lib/python3.6/dist-packages (from fastai==1.0.57) (1.4.1)\n",
            "Requirement already satisfied: pandas in /usr/local/lib/python3.6/dist-packages (from fastai==1.0.57) (0.25.3)\n",
            "Requirement already satisfied: spacy>=2.0.18 in /usr/local/lib/python3.6/dist-packages (from fastai==1.0.57) (2.1.9)\n",
            "Requirement already satisfied: packaging in /usr/local/lib/python3.6/dist-packages (from fastai==1.0.57) (20.0)\n",
            "Requirement already satisfied: beautifulsoup4 in /usr/local/lib/python3.6/dist-packages (from fastai==1.0.57) (4.6.3)\n",
            "Requirement already satisfied: fastprogress>=0.1.19 in /usr/local/lib/python3.6/dist-packages (from fastai==1.0.57) (0.2.2)\n",
            "Requirement already satisfied: requests in /usr/local/lib/python3.6/dist-packages (from fastai==1.0.57) (2.21.0)\n",
            "Requirement already satisfied: matplotlib in /usr/local/lib/python3.6/dist-packages (from fastai==1.0.57) (3.1.2)\n",
            "Requirement already satisfied: bottleneck in /usr/local/lib/python3.6/dist-packages (from fastai==1.0.57) (1.3.1)\n",
            "Requirement already satisfied: Pillow in /usr/local/lib/python3.6/dist-packages (from fastai==1.0.57) (6.2.2)\n",
            "Requirement already satisfied: numexpr in /usr/local/lib/python3.6/dist-packages (from fastai==1.0.57) (2.7.1)\n",
            "Requirement already satisfied: numpy>=1.15 in /usr/local/lib/python3.6/dist-packages (from fastai==1.0.57) (1.17.5)\n",
            "Requirement already satisfied: dataclasses; python_version < \"3.7\" in /usr/local/lib/python3.6/dist-packages (from fastai==1.0.57) (0.7)\n",
            "Requirement already satisfied: nvidia-ml-py3 in /usr/local/lib/python3.6/dist-packages (from fastai==1.0.57) (7.352.0)\n",
            "Requirement already satisfied: typing; python_version < \"3.7\" in /usr/local/lib/python3.6/dist-packages (from fastai==1.0.57) (3.6.6)\n",
            "Requirement already satisfied: pyyaml in /usr/local/lib/python3.6/dist-packages (from fastai==1.0.57) (3.13)\n",
            "Requirement already satisfied: torchvision in /usr/local/lib/python3.6/dist-packages (from fastai==1.0.57) (0.4.2)\n",
            "Requirement already satisfied: torch>=1.0.0 in /usr/local/lib/python3.6/dist-packages (from fastai==1.0.57) (1.3.1)\n",
            "Requirement already satisfied: python-dateutil>=2.6.1 in /usr/local/lib/python3.6/dist-packages (from pandas->fastai==1.0.57) (2.6.1)\n",
            "Requirement already satisfied: pytz>=2017.2 in /usr/local/lib/python3.6/dist-packages (from pandas->fastai==1.0.57) (2018.9)\n",
            "Requirement already satisfied: preshed<2.1.0,>=2.0.1 in /usr/local/lib/python3.6/dist-packages (from spacy>=2.0.18->fastai==1.0.57) (2.0.1)\n",
            "Requirement already satisfied: blis<0.3.0,>=0.2.2 in /usr/local/lib/python3.6/dist-packages (from spacy>=2.0.18->fastai==1.0.57) (0.2.4)\n",
            "Requirement already satisfied: srsly<1.1.0,>=0.0.6 in /usr/local/lib/python3.6/dist-packages (from spacy>=2.0.18->fastai==1.0.57) (1.0.1)\n",
            "Requirement already satisfied: murmurhash<1.1.0,>=0.28.0 in /usr/local/lib/python3.6/dist-packages (from spacy>=2.0.18->fastai==1.0.57) (1.0.2)\n",
            "Requirement already satisfied: thinc<7.1.0,>=7.0.8 in /usr/local/lib/python3.6/dist-packages (from spacy>=2.0.18->fastai==1.0.57) (7.0.8)\n",
            "Requirement already satisfied: cymem<2.1.0,>=2.0.2 in /usr/local/lib/python3.6/dist-packages (from spacy>=2.0.18->fastai==1.0.57) (2.0.3)\n",
            "Requirement already satisfied: wasabi<1.1.0,>=0.2.0 in /usr/local/lib/python3.6/dist-packages (from spacy>=2.0.18->fastai==1.0.57) (0.6.0)\n",
            "Requirement already satisfied: plac<1.0.0,>=0.9.6 in /usr/local/lib/python3.6/dist-packages (from spacy>=2.0.18->fastai==1.0.57) (0.9.6)\n",
            "Requirement already satisfied: pyparsing>=2.0.2 in /usr/local/lib/python3.6/dist-packages (from packaging->fastai==1.0.57) (2.4.6)\n",
            "Requirement already satisfied: six in /usr/local/lib/python3.6/dist-packages (from packaging->fastai==1.0.57) (1.12.0)\n",
            "Requirement already satisfied: idna<2.9,>=2.5 in /usr/local/lib/python3.6/dist-packages (from requests->fastai==1.0.57) (2.8)\n",
            "Requirement already satisfied: certifi>=2017.4.17 in /usr/local/lib/python3.6/dist-packages (from requests->fastai==1.0.57) (2019.11.28)\n",
            "Requirement already satisfied: urllib3<1.25,>=1.21.1 in /usr/local/lib/python3.6/dist-packages (from requests->fastai==1.0.57) (1.24.3)\n",
            "Requirement already satisfied: chardet<3.1.0,>=3.0.2 in /usr/local/lib/python3.6/dist-packages (from requests->fastai==1.0.57) (3.0.4)\n",
            "Requirement already satisfied: kiwisolver>=1.0.1 in /usr/local/lib/python3.6/dist-packages (from matplotlib->fastai==1.0.57) (1.1.0)\n",
            "Requirement already satisfied: cycler>=0.10 in /usr/local/lib/python3.6/dist-packages (from matplotlib->fastai==1.0.57) (0.10.0)\n",
            "Requirement already satisfied: tqdm<5.0.0,>=4.10.0 in /usr/local/lib/python3.6/dist-packages (from thinc<7.1.0,>=7.0.8->spacy>=2.0.18->fastai==1.0.57) (4.28.1)\n",
            "Requirement already satisfied: setuptools in /usr/local/lib/python3.6/dist-packages (from kiwisolver>=1.0.1->matplotlib->fastai==1.0.57) (42.0.2)\n",
            "Installing collected packages: fastai\n",
            "Successfully installed fastai-1.0.57\n"
          ],
          "name": "stdout"
        }
      ]
    },
    {
      "cell_type": "code",
      "metadata": {
        "id": "B6KpEBA76ne5",
        "colab_type": "code",
        "colab": {}
      },
      "source": [
        "# fastai version 1.0.57\n",
        "from fastai import *\n",
        "from fastai.text import *\n",
        "from fastai.callbacks import *\n",
        "\n",
        "import matplotlib.pyplot as plt\n",
        "\n",
        "%reload_ext autoreload\n",
        "%autoreload 2\n",
        "%matplotlib inline"
      ],
      "execution_count": 0,
      "outputs": []
    },
    {
      "cell_type": "code",
      "metadata": {
        "id": "RJkADMnL6fI9",
        "colab_type": "code",
        "outputId": "f343fbb2-c470-4d6d-a41b-61312927ed6c",
        "colab": {
          "base_uri": "https://localhost:8080/",
          "height": 122
        }
      },
      "source": [
        "from google.colab import drive\n",
        "drive.mount('/content/drive')"
      ],
      "execution_count": 3,
      "outputs": [
        {
          "output_type": "stream",
          "text": [
            "Go to this URL in a browser: https://accounts.google.com/o/oauth2/auth?client_id=947318989803-6bn6qk8qdgf4n4g3pfee6491hc0brc4i.apps.googleusercontent.com&redirect_uri=urn%3aietf%3awg%3aoauth%3a2.0%3aoob&response_type=code&scope=email%20https%3a%2f%2fwww.googleapis.com%2fauth%2fdocs.test%20https%3a%2f%2fwww.googleapis.com%2fauth%2fdrive%20https%3a%2f%2fwww.googleapis.com%2fauth%2fdrive.photos.readonly%20https%3a%2f%2fwww.googleapis.com%2fauth%2fpeopleapi.readonly\n",
            "\n",
            "Enter your authorization code:\n",
            "··········\n",
            "Mounted at /content/drive\n"
          ],
          "name": "stdout"
        }
      ]
    },
    {
      "cell_type": "code",
      "metadata": {
        "id": "0cnhP9kEk9F0",
        "colab_type": "code",
        "outputId": "17323ac7-4a10-4038-cdcd-c6f8f19c3599",
        "colab": {
          "base_uri": "https://localhost:8080/",
          "height": 51
        }
      },
      "source": [
        "import fastai\n",
        "print(f'fastai: {fastai.__version__}')  # source above used 1.0.57\n",
        "print(f'cuda: {torch.cuda.is_available()}')"
      ],
      "execution_count": 4,
      "outputs": [
        {
          "output_type": "stream",
          "text": [
            "fastai: 1.0.57\n",
            "cuda: True\n"
          ],
          "name": "stdout"
        }
      ]
    },
    {
      "cell_type": "code",
      "metadata": {
        "id": "CZcqL6xbhYjy",
        "colab_type": "code",
        "colab": {}
      },
      "source": [
        "!cp '/content/drive/My Drive/Colab Notebooks/ds2020/armultifit/qhp_texts.csv' /content/"
      ],
      "execution_count": 0,
      "outputs": []
    },
    {
      "cell_type": "code",
      "metadata": {
        "id": "cQUpwZwBCBsP",
        "colab_type": "code",
        "colab": {}
      },
      "source": [
        "df = pd.read_csv('/content/qhp_texts.csv', sep=',', encoding='utf-8')\n"
      ],
      "execution_count": 0,
      "outputs": []
    },
    {
      "cell_type": "code",
      "metadata": {
        "id": "zk50U4V_Vzn-",
        "colab_type": "code",
        "outputId": "8c3cfa64-8fed-4838-b3b7-427897a1b3d2",
        "colab": {
          "base_uri": "https://localhost:8080/",
          "height": 34
        }
      },
      "source": [
        "len(df)"
      ],
      "execution_count": 7,
      "outputs": [
        {
          "output_type": "execute_result",
          "data": {
            "text/plain": [
              "39057"
            ]
          },
          "metadata": {
            "tags": []
          },
          "execution_count": 7
        }
      ]
    },
    {
      "cell_type": "code",
      "metadata": {
        "id": "EXVV0bI9VJ4Y",
        "colab_type": "code",
        "outputId": "669d00e3-f69c-446e-dc80-02efecba95e3",
        "colab": {
          "base_uri": "https://localhost:8080/",
          "height": 34
        }
      },
      "source": [
        "df.dropna(inplace=True)\n",
        "len(df)"
      ],
      "execution_count": 8,
      "outputs": [
        {
          "output_type": "execute_result",
          "data": {
            "text/plain": [
              "39057"
            ]
          },
          "metadata": {
            "tags": []
          },
          "execution_count": 8
        }
      ]
    },
    {
      "cell_type": "code",
      "metadata": {
        "id": "ODIHuJeJPFBO",
        "colab_type": "code",
        "colab": {}
      },
      "source": [
        "#df.sample(20)"
      ],
      "execution_count": 0,
      "outputs": []
    },
    {
      "cell_type": "code",
      "metadata": {
        "id": "zHJ4Q7ynfAQ6",
        "colab_type": "code",
        "colab": {}
      },
      "source": [
        "import matplotlib.cm as cm\n",
        "from sklearn.metrics import f1_score\n",
        "\n",
        "@np_func\n",
        "def f1(inp,targ): return f1_score(targ, np.argmax(inp, axis=-1), average='weighted')\n",
        "\n",
        "import warnings\n",
        "warnings.filterwarnings('ignore')  # \"error\", \"ignore\", \"always\", \"default\", \"module\" or \"on"
      ],
      "execution_count": 0,
      "outputs": []
    },
    {
      "cell_type": "code",
      "metadata": {
        "id": "VVTPhCOeQCS_",
        "colab_type": "code",
        "colab": {}
      },
      "source": [
        "# source: https://github.com/fastai/fastai/blob/master//fastai/layers.py#L300:7\n",
        "# blog: https://bfarzin.github.io/Label-Smoothing/\n",
        "class WeightedLabelSmoothingCrossEntropy(nn.Module):\n",
        "    def __init__(self, weight, eps:float=0.1, reduction='mean'):\n",
        "        super().__init__()\n",
        "        self.weight,self.eps,self.reduction = weight,eps,reduction\n",
        "        \n",
        "    def forward(self, output, target):\n",
        "        c = output.size()[-1]\n",
        "        log_preds = F.log_softmax(output, dim=-1)\n",
        "        if self.reduction=='sum': loss = -log_preds.sum()\n",
        "        else:\n",
        "            loss = -log_preds.sum(dim=-1)\n",
        "            if self.reduction=='mean':  loss = loss.mean()\n",
        "        return loss*self.eps/c + (1-self.eps) * F.nll_loss(log_preds, target, weight=self.weight, reduction=self.reduction)"
      ],
      "execution_count": 0,
      "outputs": []
    },
    {
      "cell_type": "code",
      "metadata": {
        "id": "C5-DiA2_Qdpb",
        "colab_type": "code",
        "colab": {}
      },
      "source": [
        "# to solve display error of pandas dataframe (not sure if needed here)\n",
        "get_ipython().config.get('IPKernelApp', {})['parent_appname'] = \"\""
      ],
      "execution_count": 0,
      "outputs": []
    },
    {
      "cell_type": "code",
      "metadata": {
        "id": "TXM4RtW1ze6y",
        "colab_type": "code",
        "colab": {}
      },
      "source": [
        "!mkdir -p /content/models/ \n",
        "# need to move vocab and model here for fastai to work\n",
        "!mkdir -p /root/.fastai/data/arwiki/corpus2_100/tmp/ \n",
        "# assuming files in drive\n",
        "!cp '/content/drive/My Drive/Colab Notebooks/ds2020/armultifit/ar_sp12/spm.vocab' /root/.fastai/data/arwiki/corpus2_100/tmp/spm.vocab\n",
        "!cp '/content/drive/My Drive/Colab Notebooks/ds2020/armultifit/ar_sp12/spm.model' /root/.fastai/data/arwiki/corpus2_100/tmp/spm.model"
      ],
      "execution_count": 0,
      "outputs": []
    },
    {
      "cell_type": "code",
      "metadata": {
        "id": "GaGi276cVKGp",
        "colab_type": "code",
        "outputId": "eec6a113-3697-4490-b427-617f195ba7c2",
        "colab": {
          "base_uri": "https://localhost:8080/",
          "height": 85
        }
      },
      "source": [
        "dest = '/root/.fastai/data/arwiki/corpus2_100/'\n",
        "path = '/content/'\n",
        "!ls -la /root/.fastai/data/arwiki/corpus2_100/"
      ],
      "execution_count": 15,
      "outputs": [
        {
          "output_type": "stream",
          "text": [
            "total 12\n",
            "drwxr-xr-x 3 root root 4096 Jan 27 15:58 .\n",
            "drwxr-xr-x 3 root root 4096 Jan 27 15:58 ..\n",
            "drwxr-xr-x 2 root root 4096 Jan 27 15:59 tmp\n"
          ],
          "name": "stdout"
        }
      ]
    },
    {
      "cell_type": "code",
      "metadata": {
        "id": "uBhs9t_3is_P",
        "colab_type": "code",
        "colab": {}
      },
      "source": [
        "# columns names\n",
        "reviews = \"text\"\n",
        "label = \"class\"\n",
        "bs=50"
      ],
      "execution_count": 0,
      "outputs": []
    },
    {
      "cell_type": "code",
      "metadata": {
        "id": "8U_KfwTQhm7W",
        "colab_type": "code",
        "outputId": "0cbd7ba5-b677-429d-d1a9-c85c70c05004",
        "colab": {
          "base_uri": "https://localhost:8080/",
          "height": 51
        }
      },
      "source": [
        "%%time\n",
        "data_lm = (TextList.from_df(df, path, cols=reviews, processor=SPProcessor.load(dest))\n",
        "    .split_by_rand_pct(0.1, seed=42)\n",
        "    .label_for_lm()           \n",
        "    .databunch(bs=bs, num_workers=1))"
      ],
      "execution_count": 17,
      "outputs": [
        {
          "output_type": "display_data",
          "data": {
            "text/html": [
              ""
            ],
            "text/plain": [
              "<IPython.core.display.HTML object>"
            ]
          },
          "metadata": {
            "tags": []
          }
        },
        {
          "output_type": "display_data",
          "data": {
            "text/html": [
              ""
            ],
            "text/plain": [
              "<IPython.core.display.HTML object>"
            ]
          },
          "metadata": {
            "tags": []
          }
        },
        {
          "output_type": "stream",
          "text": [
            "CPU times: user 1.99 s, sys: 91.3 ms, total: 2.08 s\n",
            "Wall time: 3.96 s\n"
          ],
          "name": "stdout"
        }
      ]
    },
    {
      "cell_type": "code",
      "metadata": {
        "id": "9DbAqjRxjPpk",
        "colab_type": "code",
        "colab": {}
      },
      "source": [
        "data_lm.save(f'/content/models/ar_databunch_lm_qhp_sp12_multifit')"
      ],
      "execution_count": 0,
      "outputs": []
    },
    {
      "cell_type": "code",
      "metadata": {
        "id": "VR5jAEg8jggy",
        "colab_type": "code",
        "colab": {}
      },
      "source": [
        "# try without models, as trainer creates a /models/ folder\n",
        "path_ds = '/content/models/'\n",
        "data_lm = load_data(path_ds, 'ar_databunch_lm_qhp_sp12_multifit', bs=bs)"
      ],
      "execution_count": 0,
      "outputs": []
    },
    {
      "cell_type": "code",
      "metadata": {
        "id": "Uvnk1RUnjx-6",
        "colab_type": "code",
        "colab": {}
      },
      "source": [
        "config = awd_lstm_lm_config.copy()\n",
        "config['qrnn'] = True\n",
        "config['n_hid'] = 1550 #default 1152\n",
        "config['n_layers'] = 4 #default 3"
      ],
      "execution_count": 0,
      "outputs": []
    },
    {
      "cell_type": "code",
      "metadata": {
        "id": "ezBiLlj43sS1",
        "colab_type": "code",
        "colab": {}
      },
      "source": [
        "# bring trained wiki files (weights and vocab)\n",
        "!cp '/content/drive/My Drive/Colab Notebooks/ds2020/armultifit/ar_sp12/ar_wt_sp12_multifit.pth' /content/models/ \n",
        "!cp '/content/drive/My Drive/Colab Notebooks/ds2020/armultifit/ar_sp12/ar_wt_vocab_sp12_multifit.pkl' /content/models/"
      ],
      "execution_count": 0,
      "outputs": []
    },
    {
      "cell_type": "code",
      "metadata": {
        "id": "twrFKW525xtK",
        "colab_type": "code",
        "colab": {}
      },
      "source": [
        "lm_ar = ['/content/models/ar_wt_sp12_multifit', '/content/models/ar_wt_vocab_sp12_multifit']"
      ],
      "execution_count": 0,
      "outputs": []
    },
    {
      "cell_type": "code",
      "metadata": {
        "id": "RDPIM0bTkPbY",
        "colab_type": "code",
        "outputId": "653e2c92-a9bf-4da3-cbec-b19d0296bbb8",
        "colab": {
          "base_uri": "https://localhost:8080/",
          "height": 51
        }
      },
      "source": [
        "%%time\n",
        "perplexity = Perplexity()\n",
        "learn_lm = language_model_learner(data_lm, AWD_LSTM, config=config, \n",
        "                                  pretrained_fnames=lm_ar, drop_mult=1., # also 0.3 used for FR\n",
        "                                  metrics=[error_rate, accuracy, perplexity]).to_fp16()"
      ],
      "execution_count": 23,
      "outputs": [
        {
          "output_type": "stream",
          "text": [
            "CPU times: user 3.12 s, sys: 1.07 s, total: 4.19 s\n",
            "Wall time: 56.4 s\n"
          ],
          "name": "stdout"
        }
      ]
    },
    {
      "cell_type": "code",
      "metadata": {
        "id": "sYPvZWfLkSs7",
        "colab_type": "code",
        "outputId": "a5329f5e-c2c8-4cfb-e18f-ffd742f8bef0",
        "colab": {
          "base_uri": "https://localhost:8080/",
          "height": 34
        }
      },
      "source": [
        "# number of model parameters\n",
        "sum([p.numel() for p in learn_lm.model.parameters()])"
      ],
      "execution_count": 24,
      "outputs": [
        {
          "output_type": "execute_result",
          "data": {
            "text/plain": [
              "44817150"
            ]
          },
          "metadata": {
            "tags": []
          },
          "execution_count": 24
        }
      ]
    },
    {
      "cell_type": "code",
      "metadata": {
        "id": "yHoglRrbkcCt",
        "colab_type": "code",
        "colab": {}
      },
      "source": [
        "#learn_lm.model"
      ],
      "execution_count": 0,
      "outputs": []
    },
    {
      "cell_type": "code",
      "metadata": {
        "id": "aEUV95mUkhze",
        "colab_type": "code",
        "outputId": "b6c3668c-d29c-4209-b29e-ea3866877904",
        "colab": {
          "base_uri": "https://localhost:8080/",
          "height": 34
        }
      },
      "source": [
        "learn_lm.loss_func"
      ],
      "execution_count": 25,
      "outputs": [
        {
          "output_type": "execute_result",
          "data": {
            "text/plain": [
              "FlattenedLoss of CrossEntropyLoss()"
            ]
          },
          "metadata": {
            "tags": []
          },
          "execution_count": 25
        }
      ]
    },
    {
      "cell_type": "code",
      "metadata": {
        "id": "riHFsGiskqTy",
        "colab_type": "code",
        "outputId": "b3126c2f-9dd2-4681-f8be-a8aa3677d52b",
        "colab": {
          "base_uri": "https://localhost:8080/",
          "height": 34
        }
      },
      "source": [
        "# may not be needed for binary balanced classification (here multilabel unbalanced)\n",
        "learn_lm.loss_func = FlattenedLoss(LabelSmoothingCrossEntropy)\n",
        "learn_lm.loss_func"
      ],
      "execution_count": 26,
      "outputs": [
        {
          "output_type": "execute_result",
          "data": {
            "text/plain": [
              "FlattenedLoss of LabelSmoothingCrossEntropy()"
            ]
          },
          "metadata": {
            "tags": []
          },
          "execution_count": 26
        }
      ]
    },
    {
      "cell_type": "code",
      "metadata": {
        "id": "1f2isWEGkz7l",
        "colab_type": "code",
        "outputId": "7025d38b-695e-44b5-870a-c77589076750",
        "colab": {
          "base_uri": "https://localhost:8080/",
          "height": 408
        }
      },
      "source": [
        "learn_lm.lr_find(num_it=120, stop_div=True)\n",
        "learn_lm.recorder.plot(suggestion=True)"
      ],
      "execution_count": 27,
      "outputs": [
        {
          "output_type": "display_data",
          "data": {
            "text/html": [
              "\n",
              "    <div>\n",
              "        <style>\n",
              "            /* Turns off some styling */\n",
              "            progress {\n",
              "                /* gets rid of default border in Firefox and Opera. */\n",
              "                border: none;\n",
              "                /* Needs to be in here for Safari polyfill so background images work as expected. */\n",
              "                background-size: auto;\n",
              "            }\n",
              "            .progress-bar-interrupted, .progress-bar-interrupted::-webkit-progress-bar {\n",
              "                background: #F44336;\n",
              "            }\n",
              "        </style>\n",
              "      <progress value='0' class='' max='1', style='width:300px; height:20px; vertical-align: middle;'></progress>\n",
              "      0.00% [0/1 00:00<00:00]\n",
              "    </div>\n",
              "    \n",
              "<table border=\"1\" class=\"dataframe\">\n",
              "  <thead>\n",
              "    <tr style=\"text-align: left;\">\n",
              "      <th>epoch</th>\n",
              "      <th>train_loss</th>\n",
              "      <th>valid_loss</th>\n",
              "      <th>error_rate</th>\n",
              "      <th>accuracy</th>\n",
              "      <th>perplexity</th>\n",
              "      <th>time</th>\n",
              "    </tr>\n",
              "  </thead>\n",
              "  <tbody>\n",
              "  </tbody>\n",
              "</table><p>\n",
              "\n",
              "    <div>\n",
              "        <style>\n",
              "            /* Turns off some styling */\n",
              "            progress {\n",
              "                /* gets rid of default border in Firefox and Opera. */\n",
              "                border: none;\n",
              "                /* Needs to be in here for Safari polyfill so background images work as expected. */\n",
              "                background-size: auto;\n",
              "            }\n",
              "            .progress-bar-interrupted, .progress-bar-interrupted::-webkit-progress-bar {\n",
              "                background: #F44336;\n",
              "            }\n",
              "        </style>\n",
              "      <progress value='116' class='' max='383', style='width:300px; height:20px; vertical-align: middle;'></progress>\n",
              "      30.29% [116/383 00:08<00:19 33.7347]\n",
              "    </div>\n",
              "    "
            ],
            "text/plain": [
              "<IPython.core.display.HTML object>"
            ]
          },
          "metadata": {
            "tags": []
          }
        },
        {
          "output_type": "stream",
          "text": [
            "LR Finder is complete, type {learner_name}.recorder.plot() to see the graph.\n",
            "Min numerical gradient: 1.00E-01\n",
            "Min loss divided by 10: 4.64E-02\n"
          ],
          "name": "stdout"
        },
        {
          "output_type": "display_data",
          "data": {
            "image/png": "[encoded data removed]",
            "text/plain": [
              "<Figure size 432x288 with 1 Axes>"
            ]
          },
          "metadata": {
            "tags": []
          }
        }
      ]
    },
    {
      "cell_type": "code",
      "metadata": {
        "id": "zZnVNwwVk_b1",
        "colab_type": "code",
        "colab": {}
      },
      "source": [
        "lr = 2e-2 \n",
        "lr *= bs/50\n",
        "wd = 0.1 "
      ],
      "execution_count": 0,
      "outputs": []
    },
    {
      "cell_type": "code",
      "metadata": {
        "id": "78cECh0clHC2",
        "colab_type": "code",
        "outputId": "72d7983c-c105-47a9-f2a1-2fdd8c2b2d09",
        "colab": {
          "base_uri": "https://localhost:8080/",
          "height": 111
        }
      },
      "source": [
        "learn_lm.fit_one_cycle(2, lr*10, wd=wd, moms=(0.8,0.7))"
      ],
      "execution_count": 29,
      "outputs": [
        {
          "output_type": "display_data",
          "data": {
            "text/html": [
              "<table border=\"1\" class=\"dataframe\">\n",
              "  <thead>\n",
              "    <tr style=\"text-align: left;\">\n",
              "      <th>epoch</th>\n",
              "      <th>train_loss</th>\n",
              "      <th>valid_loss</th>\n",
              "      <th>error_rate</th>\n",
              "      <th>accuracy</th>\n",
              "      <th>perplexity</th>\n",
              "      <th>time</th>\n",
              "    </tr>\n",
              "  </thead>\n",
              "  <tbody>\n",
              "    <tr>\n",
              "      <td>0</td>\n",
              "      <td>16.737259</td>\n",
              "      <td>7.468085</td>\n",
              "      <td>0.919490</td>\n",
              "      <td>0.080510</td>\n",
              "      <td>983.141663</td>\n",
              "      <td>00:29</td>\n",
              "    </tr>\n",
              "    <tr>\n",
              "      <td>1</td>\n",
              "      <td>6.210994</td>\n",
              "      <td>5.989960</td>\n",
              "      <td>0.807265</td>\n",
              "      <td>0.192735</td>\n",
              "      <td>218.191177</td>\n",
              "      <td>00:28</td>\n",
              "    </tr>\n",
              "  </tbody>\n",
              "</table>"
            ],
            "text/plain": [
              "<IPython.core.display.HTML object>"
            ]
          },
          "metadata": {
            "tags": []
          }
        }
      ]
    },
    {
      "cell_type": "code",
      "metadata": {
        "id": "HtYvBKeVlR_3",
        "colab_type": "code",
        "colab": {}
      },
      "source": [
        "# saving optional\n",
        "learn_lm.save(f'ar_fine_tuned1_qhp_sp12_multifit')\n",
        "learn_lm.save_encoder(f'ar_fine_tuned1_enc_qhp_sp12_multifit')"
      ],
      "execution_count": 0,
      "outputs": []
    },
    {
      "cell_type": "code",
      "metadata": {
        "id": "FA_S0oX7luUI",
        "colab_type": "code",
        "outputId": "3aba1950-4ca2-479b-ba2a-3a7c71a78af5",
        "colab": {
          "base_uri": "https://localhost:8080/",
          "height": 607
        }
      },
      "source": [
        "learn_lm.unfreeze()\n",
        "learn_lm.fit_one_cycle(10, lr, wd=wd, moms=(0.8,0.7), callbacks=[ShowGraph(learn_lm)])"
      ],
      "execution_count": 31,
      "outputs": [
        {
          "output_type": "display_data",
          "data": {
            "text/html": [
              "<table border=\"1\" class=\"dataframe\">\n",
              "  <thead>\n",
              "    <tr style=\"text-align: left;\">\n",
              "      <th>epoch</th>\n",
              "      <th>train_loss</th>\n",
              "      <th>valid_loss</th>\n",
              "      <th>error_rate</th>\n",
              "      <th>accuracy</th>\n",
              "      <th>perplexity</th>\n",
              "      <th>time</th>\n",
              "    </tr>\n",
              "  </thead>\n",
              "  <tbody>\n",
              "    <tr>\n",
              "      <td>0</td>\n",
              "      <td>5.354362</td>\n",
              "      <td>5.179316</td>\n",
              "      <td>0.711299</td>\n",
              "      <td>0.288701</td>\n",
              "      <td>89.431717</td>\n",
              "      <td>00:38</td>\n",
              "    </tr>\n",
              "    <tr>\n",
              "      <td>1</td>\n",
              "      <td>5.057788</td>\n",
              "      <td>4.920049</td>\n",
              "      <td>0.678054</td>\n",
              "      <td>0.321946</td>\n",
              "      <td>67.120506</td>\n",
              "      <td>00:38</td>\n",
              "    </tr>\n",
              "    <tr>\n",
              "      <td>2</td>\n",
              "      <td>5.059725</td>\n",
              "      <td>4.909671</td>\n",
              "      <td>0.679034</td>\n",
              "      <td>0.320966</td>\n",
              "      <td>63.882679</td>\n",
              "      <td>00:38</td>\n",
              "    </tr>\n",
              "    <tr>\n",
              "      <td>3</td>\n",
              "      <td>4.997087</td>\n",
              "      <td>4.866829</td>\n",
              "      <td>0.678687</td>\n",
              "      <td>0.321313</td>\n",
              "      <td>61.364693</td>\n",
              "      <td>00:38</td>\n",
              "    </tr>\n",
              "    <tr>\n",
              "      <td>4</td>\n",
              "      <td>4.906450</td>\n",
              "      <td>4.768221</td>\n",
              "      <td>0.662612</td>\n",
              "      <td>0.337388</td>\n",
              "      <td>55.010338</td>\n",
              "      <td>00:38</td>\n",
              "    </tr>\n",
              "    <tr>\n",
              "      <td>5</td>\n",
              "      <td>4.789160</td>\n",
              "      <td>4.668379</td>\n",
              "      <td>0.649748</td>\n",
              "      <td>0.350252</td>\n",
              "      <td>49.486717</td>\n",
              "      <td>00:38</td>\n",
              "    </tr>\n",
              "    <tr>\n",
              "      <td>6</td>\n",
              "      <td>4.647646</td>\n",
              "      <td>4.551444</td>\n",
              "      <td>0.637653</td>\n",
              "      <td>0.362347</td>\n",
              "      <td>43.269382</td>\n",
              "      <td>00:38</td>\n",
              "    </tr>\n",
              "    <tr>\n",
              "      <td>7</td>\n",
              "      <td>4.499552</td>\n",
              "      <td>4.451342</td>\n",
              "      <td>0.620354</td>\n",
              "      <td>0.379646</td>\n",
              "      <td>38.758228</td>\n",
              "      <td>00:38</td>\n",
              "    </tr>\n",
              "    <tr>\n",
              "      <td>8</td>\n",
              "      <td>4.380407</td>\n",
              "      <td>4.385240</td>\n",
              "      <td>0.610565</td>\n",
              "      <td>0.389435</td>\n",
              "      <td>35.975986</td>\n",
              "      <td>00:38</td>\n",
              "    </tr>\n",
              "    <tr>\n",
              "      <td>9</td>\n",
              "      <td>4.301546</td>\n",
              "      <td>4.374159</td>\n",
              "      <td>0.608265</td>\n",
              "      <td>0.391735</td>\n",
              "      <td>35.345943</td>\n",
              "      <td>00:38</td>\n",
              "    </tr>\n",
              "  </tbody>\n",
              "</table>"
            ],
            "text/plain": [
              "<IPython.core.display.HTML object>"
            ]
          },
          "metadata": {
            "tags": []
          }
        },
        {
          "output_type": "display_data",
          "data": {
            "image/png": "[encoded data removed]",
            "text/plain": [
              "<Figure size 432x288 with 1 Axes>"
            ]
          },
          "metadata": {
            "tags": []
          }
        }
      ]
    },
    {
      "cell_type": "code",
      "metadata": {
        "id": "zSo4afA-l3Yg",
        "colab_type": "code",
        "colab": {}
      },
      "source": [
        "# best model and encoder \n",
        "learn_lm.save(f'ar_fine_tuned_qhp_sp12_multifit')\n",
        "learn_lm.save_encoder(f'ar_fine_tuned_enc_qhp_sp12_multifit')"
      ],
      "execution_count": 0,
      "outputs": []
    },
    {
      "cell_type": "code",
      "metadata": {
        "id": "_wUP4qRkwZys",
        "colab_type": "code",
        "colab": {}
      },
      "source": [
        "# fine-tune classifier (fwd)\n",
        "bs = 18"
      ],
      "execution_count": 0,
      "outputs": []
    },
    {
      "cell_type": "code",
      "metadata": {
        "id": "mH0YHuCcmjn7",
        "colab_type": "code",
        "outputId": "07a1fc51-e4dc-4bf3-95f6-a209869bf501",
        "colab": {
          "base_uri": "https://localhost:8080/",
          "height": 51
        }
      },
      "source": [
        "%%time\n",
        "data_lm = load_data(path_ds, 'ar_databunch_lm_qhp_sp12_multifit', bs=bs)"
      ],
      "execution_count": 34,
      "outputs": [
        {
          "output_type": "stream",
          "text": [
            "CPU times: user 208 ms, sys: 15.8 ms, total: 223 ms\n",
            "Wall time: 230 ms\n"
          ],
          "name": "stdout"
        }
      ]
    },
    {
      "cell_type": "code",
      "metadata": {
        "id": "C24MCbMSvjaW",
        "colab_type": "code",
        "outputId": "9f4546b0-2216-4382-94c9-bd0eb75d4819",
        "colab": {
          "base_uri": "https://localhost:8080/",
          "height": 51
        }
      },
      "source": [
        "%%time\n",
        "data_clas = (TextList.from_df(df, path, vocab=data_lm.vocab, cols=reviews, processor=SPProcessor.load(dest))\n",
        "    .split_by_rand_pct(0.1, seed=42)\n",
        "    .label_from_df(cols=label)\n",
        "    .databunch(bs=bs, num_workers=1))"
      ],
      "execution_count": 35,
      "outputs": [
        {
          "output_type": "display_data",
          "data": {
            "text/html": [
              ""
            ],
            "text/plain": [
              "<IPython.core.display.HTML object>"
            ]
          },
          "metadata": {
            "tags": []
          }
        },
        {
          "output_type": "display_data",
          "data": {
            "text/html": [
              ""
            ],
            "text/plain": [
              "<IPython.core.display.HTML object>"
            ]
          },
          "metadata": {
            "tags": []
          }
        },
        {
          "output_type": "stream",
          "text": [
            "CPU times: user 3.04 s, sys: 197 ms, total: 3.23 s\n",
            "Wall time: 4.96 s\n"
          ],
          "name": "stdout"
        }
      ]
    },
    {
      "cell_type": "code",
      "metadata": {
        "id": "Tuzy81JdwonN",
        "colab_type": "code",
        "outputId": "2760a288-b3a9-412a-836b-1959a6482ab2",
        "colab": {
          "base_uri": "https://localhost:8080/",
          "height": 51
        }
      },
      "source": [
        "%%time\n",
        "data_clas.save(f'/content/models/ar_textlist_class_qhp_sp12_multifit')"
      ],
      "execution_count": 36,
      "outputs": [
        {
          "output_type": "stream",
          "text": [
            "CPU times: user 609 ms, sys: 59.4 ms, total: 669 ms\n",
            "Wall time: 670 ms\n"
          ],
          "name": "stdout"
        }
      ]
    },
    {
      "cell_type": "code",
      "metadata": {
        "id": "nLv6n5vJxHjC",
        "colab_type": "code",
        "colab": {}
      },
      "source": [
        "# Get weights to penalize loss function of the majority class"
      ],
      "execution_count": 0,
      "outputs": []
    },
    {
      "cell_type": "code",
      "metadata": {
        "id": "wqGajefs1GKv",
        "colab_type": "code",
        "outputId": "02d9d76f-6b4d-4110-9204-297cb804c284",
        "colab": {
          "base_uri": "https://localhost:8080/",
          "height": 51
        }
      },
      "source": [
        "%%time\n",
        "data_clas = load_data(path_ds, f'ar_textlist_class_qhp_sp12_multifit', bs=bs, num_workers=1)"
      ],
      "execution_count": 37,
      "outputs": [
        {
          "output_type": "stream",
          "text": [
            "CPU times: user 1.31 s, sys: 15 ms, total: 1.33 s\n",
            "Wall time: 1.34 s\n"
          ],
          "name": "stdout"
        }
      ]
    },
    {
      "cell_type": "code",
      "metadata": {
        "id": "RIS6SqHq1kJT",
        "colab_type": "code",
        "outputId": "a904c447-08fb-4f0d-8034-d7dc930586ba",
        "colab": {
          "base_uri": "https://localhost:8080/",
          "height": 34
        }
      },
      "source": [
        "num_trn = len(data_clas.train_ds.x)\n",
        "num_val = len(data_clas.valid_ds.x)\n",
        "num_trn, num_val, num_trn+num_val"
      ],
      "execution_count": 38,
      "outputs": [
        {
          "output_type": "execute_result",
          "data": {
            "text/plain": [
              "(35152, 3905, 39057)"
            ]
          },
          "metadata": {
            "tags": []
          },
          "execution_count": 38
        }
      ]
    },
    {
      "cell_type": "code",
      "metadata": {
        "id": "VzKP3-kE2dca",
        "colab_type": "code",
        "outputId": "0599fb01-e390-4eb6-e007-f5153c18eb83",
        "colab": {
          "base_uri": "https://localhost:8080/",
          "height": 34
        }
      },
      "source": [
        "trn_LabelCounts = np.unique(data_clas.train_ds.y.items, return_counts=True)[1]\n",
        "val_LabelCounts = np.unique(data_clas.valid_ds.y.items, return_counts=True)[1]\n",
        "trn_LabelCounts, val_LabelCounts"
      ],
      "execution_count": 39,
      "outputs": [
        {
          "output_type": "execute_result",
          "data": {
            "text/plain": [
              "(array([ 5603, 19540, 10009]), array([ 633, 2158, 1114]))"
            ]
          },
          "metadata": {
            "tags": []
          },
          "execution_count": 39
        }
      ]
    },
    {
      "cell_type": "code",
      "metadata": {
        "id": "Uso_OOve2nch",
        "colab_type": "code",
        "outputId": "6837de22-3a83-4260-d977-c9bd4ca93814",
        "colab": {
          "base_uri": "https://localhost:8080/",
          "height": 51
        }
      },
      "source": [
        "trn_weights = [1 - count/num_trn for count in trn_LabelCounts]\n",
        "val_weights = [1 - count/num_val for count in val_LabelCounts]\n",
        "trn_weights, val_weights"
      ],
      "execution_count": 40,
      "outputs": [
        {
          "output_type": "execute_result",
          "data": {
            "text/plain": [
              "([0.8406065088757396, 0.4441283568502503, 0.71526513427401],\n",
              " [0.8379001280409731, 0.44737516005121636, 0.7147247119078105])"
            ]
          },
          "metadata": {
            "tags": []
          },
          "execution_count": 40
        }
      ]
    },
    {
      "cell_type": "code",
      "metadata": {
        "id": "ZWmLzwXZ21XT",
        "colab_type": "code",
        "colab": {}
      },
      "source": [
        "#Training (Loss = FlattenedLoss of weighted LabelSmoothingCrossEntropy)"
      ],
      "execution_count": 0,
      "outputs": []
    },
    {
      "cell_type": "code",
      "metadata": {
        "id": "T_dNlLrl3Ljy",
        "colab_type": "code",
        "outputId": "aefa1262-91fd-4a8e-d5e8-854b8296bbcd",
        "colab": {
          "base_uri": "https://localhost:8080/",
          "height": 51
        }
      },
      "source": [
        "%%time\n",
        "data_clas = load_data(path_ds, f'ar_textlist_class_qhp_sp12_multifit', bs=bs, num_workers=1)"
      ],
      "execution_count": 41,
      "outputs": [
        {
          "output_type": "stream",
          "text": [
            "CPU times: user 1.13 s, sys: 7.19 ms, total: 1.14 s\n",
            "Wall time: 1.14 s\n"
          ],
          "name": "stdout"
        }
      ]
    },
    {
      "cell_type": "code",
      "metadata": {
        "id": "wgG4yKyU3M3n",
        "colab_type": "code",
        "colab": {}
      },
      "source": [
        "config = awd_lstm_clas_config.copy()\n",
        "config['qrnn'] = True\n",
        "config['n_hid'] = 1550 #default 1152\n",
        "config['n_layers'] = 4 #default 3"
      ],
      "execution_count": 0,
      "outputs": []
    },
    {
      "cell_type": "code",
      "metadata": {
        "id": "irkvUfxQ3ROE",
        "colab_type": "code",
        "colab": {}
      },
      "source": [
        "learn_c = text_classifier_learner(data_clas, AWD_LSTM, config=config, pretrained=False, \n",
        "                                  drop_mult=0.3,  # 0.3, was 0.5 for FR\n",
        "                                  metrics=[accuracy,f1]).to_fp16()\n",
        "learn_c.load_encoder(f'ar_fine_tuned_enc_qhp_sp12_multifit');"
      ],
      "execution_count": 0,
      "outputs": []
    },
    {
      "cell_type": "code",
      "metadata": {
        "id": "TwkTxxaa3Ugk",
        "colab_type": "code",
        "outputId": "3d76e51e-63e6-410e-8bd3-b2323978bd2b",
        "colab": {
          "base_uri": "https://localhost:8080/",
          "height": 51
        }
      },
      "source": [
        "# Change loss function\n",
        "print(learn_c.loss_func)\n",
        "loss_weights = torch.FloatTensor(trn_weights).cuda()\n",
        "learn_c.loss_func = FlattenedLoss(WeightedLabelSmoothingCrossEntropy, weight=loss_weights)\n",
        "print(learn_c.loss_func)"
      ],
      "execution_count": 44,
      "outputs": [
        {
          "output_type": "stream",
          "text": [
            "FlattenedLoss of CrossEntropyLoss()\n",
            "FlattenedLoss of WeightedLabelSmoothingCrossEntropy()\n"
          ],
          "name": "stdout"
        }
      ]
    },
    {
      "cell_type": "code",
      "metadata": {
        "id": "hCLbwNpw3jqN",
        "colab_type": "code",
        "outputId": "fa4421fa-b44d-43f5-b7cd-4db3aadad722",
        "colab": {
          "base_uri": "https://localhost:8080/",
          "height": 408
        }
      },
      "source": [
        "# train \n",
        "learn_c.freeze()\n",
        "learn_c.lr_find(num_it=80, stop_div=True)\n",
        "learn_c.recorder.plot(suggestion=True)"
      ],
      "execution_count": 45,
      "outputs": [
        {
          "output_type": "display_data",
          "data": {
            "text/html": [
              "\n",
              "    <div>\n",
              "        <style>\n",
              "            /* Turns off some styling */\n",
              "            progress {\n",
              "                /* gets rid of default border in Firefox and Opera. */\n",
              "                border: none;\n",
              "                /* Needs to be in here for Safari polyfill so background images work as expected. */\n",
              "                background-size: auto;\n",
              "            }\n",
              "            .progress-bar-interrupted, .progress-bar-interrupted::-webkit-progress-bar {\n",
              "                background: #F44336;\n",
              "            }\n",
              "        </style>\n",
              "      <progress value='0' class='' max='1', style='width:300px; height:20px; vertical-align: middle;'></progress>\n",
              "      0.00% [0/1 00:00<00:00]\n",
              "    </div>\n",
              "    \n",
              "<table border=\"1\" class=\"dataframe\">\n",
              "  <thead>\n",
              "    <tr style=\"text-align: left;\">\n",
              "      <th>epoch</th>\n",
              "      <th>train_loss</th>\n",
              "      <th>valid_loss</th>\n",
              "      <th>accuracy</th>\n",
              "      <th>f1</th>\n",
              "      <th>time</th>\n",
              "    </tr>\n",
              "  </thead>\n",
              "  <tbody>\n",
              "  </tbody>\n",
              "</table><p>\n",
              "\n",
              "    <div>\n",
              "        <style>\n",
              "            /* Turns off some styling */\n",
              "            progress {\n",
              "                /* gets rid of default border in Firefox and Opera. */\n",
              "                border: none;\n",
              "                /* Needs to be in here for Safari polyfill so background images work as expected. */\n",
              "                background-size: auto;\n",
              "            }\n",
              "            .progress-bar-interrupted, .progress-bar-interrupted::-webkit-progress-bar {\n",
              "                background: #F44336;\n",
              "            }\n",
              "        </style>\n",
              "      <progress value='73' class='' max='1952', style='width:300px; height:20px; vertical-align: middle;'></progress>\n",
              "      3.74% [73/1952 00:02<00:54 1.6892]\n",
              "    </div>\n",
              "    "
            ],
            "text/plain": [
              "<IPython.core.display.HTML object>"
            ]
          },
          "metadata": {
            "tags": []
          }
        },
        {
          "output_type": "stream",
          "text": [
            "LR Finder is complete, type {learner_name}.recorder.plot() to see the graph.\n",
            "Min numerical gradient: 1.00E-03\n",
            "Min loss divided by 10: 3.98E-02\n"
          ],
          "name": "stdout"
        },
        {
          "output_type": "display_data",
          "data": {
            "image/png": "[encoded data removed]",
            "text/plain": [
              "<Figure size 432x288 with 1 Axes>"
            ]
          },
          "metadata": {
            "tags": []
          }
        }
      ]
    },
    {
      "cell_type": "code",
      "metadata": {
        "id": "n-_3Ng9y3wN5",
        "colab_type": "code",
        "colab": {}
      },
      "source": [
        "lr = 5e-4 # was 2e-1 for pt\n",
        "lr *= bs/48\n",
        "wd = 0.1 # was 0.01 for FR"
      ],
      "execution_count": 0,
      "outputs": []
    },
    {
      "cell_type": "code",
      "metadata": {
        "id": "w9LI9nfc31ld",
        "colab_type": "code",
        "outputId": "6c455e53-5bee-4070-8308-7f5e4a5d2932",
        "colab": {
          "base_uri": "https://localhost:8080/",
          "height": 173
        }
      },
      "source": [
        "# was 2 cycles in 2 cells, try 4 in one cell [may be this is enough for QHP dataset]\n",
        "learn_c.fit_one_cycle(4, lr, wd=wd, moms=(0.8,0.7))"
      ],
      "execution_count": 47,
      "outputs": [
        {
          "output_type": "display_data",
          "data": {
            "text/html": [
              "<table border=\"1\" class=\"dataframe\">\n",
              "  <thead>\n",
              "    <tr style=\"text-align: left;\">\n",
              "      <th>epoch</th>\n",
              "      <th>train_loss</th>\n",
              "      <th>valid_loss</th>\n",
              "      <th>accuracy</th>\n",
              "      <th>f1</th>\n",
              "      <th>time</th>\n",
              "    </tr>\n",
              "  </thead>\n",
              "  <tbody>\n",
              "    <tr>\n",
              "      <td>0</td>\n",
              "      <td>0.603810</td>\n",
              "      <td>0.366842</td>\n",
              "      <td>0.975672</td>\n",
              "      <td>0.979921</td>\n",
              "      <td>00:28</td>\n",
              "    </tr>\n",
              "    <tr>\n",
              "      <td>1</td>\n",
              "      <td>0.513248</td>\n",
              "      <td>0.358706</td>\n",
              "      <td>0.984123</td>\n",
              "      <td>0.984770</td>\n",
              "      <td>00:31</td>\n",
              "    </tr>\n",
              "    <tr>\n",
              "      <td>2</td>\n",
              "      <td>0.456807</td>\n",
              "      <td>0.354967</td>\n",
              "      <td>0.982843</td>\n",
              "      <td>0.984436</td>\n",
              "      <td>00:30</td>\n",
              "    </tr>\n",
              "    <tr>\n",
              "      <td>3</td>\n",
              "      <td>0.493138</td>\n",
              "      <td>0.351594</td>\n",
              "      <td>0.985147</td>\n",
              "      <td>0.986098</td>\n",
              "      <td>00:31</td>\n",
              "    </tr>\n",
              "  </tbody>\n",
              "</table>"
            ],
            "text/plain": [
              "<IPython.core.display.HTML object>"
            ]
          },
          "metadata": {
            "tags": []
          }
        }
      ]
    },
    {
      "cell_type": "code",
      "metadata": {
        "id": "bUweEO7s4Eh3",
        "colab_type": "code",
        "outputId": "ad1679ca-4bd0-41bd-a92f-19c9909df453",
        "colab": {
          "base_uri": "https://localhost:8080/",
          "height": 111
        }
      },
      "source": [
        "# try 3 or 4 cycles here, 2 were ok (ignore -3)\n",
        "learn_c.freeze_to(-2)\n",
        "learn_c.fit_one_cycle(2, slice(lr/(2.6**4),lr), wd=wd, moms=(0.8,0.7))"
      ],
      "execution_count": 48,
      "outputs": [
        {
          "output_type": "display_data",
          "data": {
            "text/html": [
              "<table border=\"1\" class=\"dataframe\">\n",
              "  <thead>\n",
              "    <tr style=\"text-align: left;\">\n",
              "      <th>epoch</th>\n",
              "      <th>train_loss</th>\n",
              "      <th>valid_loss</th>\n",
              "      <th>accuracy</th>\n",
              "      <th>f1</th>\n",
              "      <th>time</th>\n",
              "    </tr>\n",
              "  </thead>\n",
              "  <tbody>\n",
              "    <tr>\n",
              "      <td>0</td>\n",
              "      <td>0.487310</td>\n",
              "      <td>0.348600</td>\n",
              "      <td>0.984379</td>\n",
              "      <td>0.985513</td>\n",
              "      <td>00:36</td>\n",
              "    </tr>\n",
              "    <tr>\n",
              "      <td>1</td>\n",
              "      <td>0.464370</td>\n",
              "      <td>0.344442</td>\n",
              "      <td>0.987964</td>\n",
              "      <td>0.988061</td>\n",
              "      <td>00:36</td>\n",
              "    </tr>\n",
              "  </tbody>\n",
              "</table>"
            ],
            "text/plain": [
              "<IPython.core.display.HTML object>"
            ]
          },
          "metadata": {
            "tags": []
          }
        }
      ]
    },
    {
      "cell_type": "code",
      "metadata": {
        "id": "P_i3OJP-4OV2",
        "colab_type": "code",
        "outputId": "e9b81daa-97e1-4f78-e295-25468384994e",
        "colab": {
          "base_uri": "https://localhost:8080/",
          "height": 111
        }
      },
      "source": [
        "# unfreeze and tune (was 4 cycles, one seems good)\n",
        "learn_c.unfreeze()\n",
        "learn_c.fit_one_cycle(2, slice(lr/10/(2.6**4),lr/10), wd=wd, moms=(0.8,0.7)) # 1 cycle in FR"
      ],
      "execution_count": 49,
      "outputs": [
        {
          "output_type": "display_data",
          "data": {
            "text/html": [
              "<table border=\"1\" class=\"dataframe\">\n",
              "  <thead>\n",
              "    <tr style=\"text-align: left;\">\n",
              "      <th>epoch</th>\n",
              "      <th>train_loss</th>\n",
              "      <th>valid_loss</th>\n",
              "      <th>accuracy</th>\n",
              "      <th>f1</th>\n",
              "      <th>time</th>\n",
              "    </tr>\n",
              "  </thead>\n",
              "  <tbody>\n",
              "    <tr>\n",
              "      <td>0</td>\n",
              "      <td>0.458966</td>\n",
              "      <td>0.344312</td>\n",
              "      <td>0.986172</td>\n",
              "      <td>0.986492</td>\n",
              "      <td>01:10</td>\n",
              "    </tr>\n",
              "    <tr>\n",
              "      <td>1</td>\n",
              "      <td>0.446561</td>\n",
              "      <td>0.359955</td>\n",
              "      <td>0.987452</td>\n",
              "      <td>0.987985</td>\n",
              "      <td>01:10</td>\n",
              "    </tr>\n",
              "  </tbody>\n",
              "</table>"
            ],
            "text/plain": [
              "<IPython.core.display.HTML object>"
            ]
          },
          "metadata": {
            "tags": []
          }
        }
      ]
    },
    {
      "cell_type": "code",
      "metadata": {
        "id": "Z5AqzuA24Vwd",
        "colab_type": "code",
        "colab": {}
      },
      "source": [
        "learn_c.save(f'ar_clas_qhp_sp12_multifit')\n",
        "learn_c.to_fp32().export(f'ar_classifier_qhp_sp12_multifit') "
      ],
      "execution_count": 0,
      "outputs": []
    },
    {
      "cell_type": "code",
      "metadata": {
        "id": "232dc3e-4jIo",
        "colab_type": "code",
        "colab": {}
      },
      "source": [
        "#========================================================\n",
        "# confusion matrix"
      ],
      "execution_count": 0,
      "outputs": []
    },
    {
      "cell_type": "code",
      "metadata": {
        "id": "apoHL3964jFS",
        "colab_type": "code",
        "outputId": "040f070a-1d1a-41a9-8366-7953497df740",
        "colab": {
          "base_uri": "https://localhost:8080/",
          "height": 51
        }
      },
      "source": [
        "%%time\n",
        "data_clas = load_data(path_ds, f'ar_textlist_class_qhp_sp12_multifit', bs=bs, num_workers=1);\n",
        "\n",
        "config = awd_lstm_clas_config.copy()\n",
        "config['qrnn'] = True\n",
        "config['n_hid'] = 1550 #default 1152\n",
        "config['n_layers'] = 4 #default 3"
      ],
      "execution_count": 51,
      "outputs": [
        {
          "output_type": "stream",
          "text": [
            "CPU times: user 1.18 s, sys: 48.8 ms, total: 1.23 s\n",
            "Wall time: 1.2 s\n"
          ],
          "name": "stdout"
        }
      ]
    },
    {
      "cell_type": "code",
      "metadata": {
        "id": "eeuGZ6fQZjxg",
        "colab_type": "code",
        "colab": {}
      },
      "source": [
        "learn_c = text_classifier_learner(data_clas, AWD_LSTM, config=config, pretrained=False)"
      ],
      "execution_count": 0,
      "outputs": []
    },
    {
      "cell_type": "code",
      "metadata": {
        "id": "6t4wYGym4vl6",
        "colab_type": "code",
        "colab": {}
      },
      "source": [
        "learn_c.load(f'ar_clas_qhp_sp12_multifit', purge=False);"
      ],
      "execution_count": 0,
      "outputs": []
    },
    {
      "cell_type": "code",
      "metadata": {
        "id": "GqX8mtjT44ca",
        "colab_type": "code",
        "outputId": "83371e5b-9ee0-4240-cdea-9d8b7ce44488",
        "colab": {
          "base_uri": "https://localhost:8080/",
          "height": 311
        }
      },
      "source": [
        "preds,y,losses = learn_c.get_preds(with_loss=True)\n",
        "predictions = np.argmax(preds, axis = 1)\n",
        "\n",
        "interp = ClassificationInterpretation(learn_c, preds, y, losses)\n",
        "interp.plot_confusion_matrix()"
      ],
      "execution_count": 54,
      "outputs": [
        {
          "output_type": "display_data",
          "data": {
            "text/html": [
              ""
            ],
            "text/plain": [
              "<IPython.core.display.HTML object>"
            ]
          },
          "metadata": {
            "tags": []
          }
        },
        {
          "output_type": "display_data",
          "data": {
            "image/png": "[encoded data removed]",
            "text/plain": [
              "<Figure size 432x288 with 1 Axes>"
            ]
          },
          "metadata": {
            "tags": []
          }
        }
      ]
    },
    {
      "cell_type": "code",
      "metadata": {
        "id": "mr4JjE6N44Wh",
        "colab_type": "code",
        "outputId": "9e5c0651-9afc-4d95-80f8-fff1c673e910",
        "colab": {
          "base_uri": "https://localhost:8080/",
          "height": 136
        }
      },
      "source": [
        "from sklearn.metrics import confusion_matrix, f1_score\n",
        "cm = confusion_matrix(np.array(y), np.array(predictions))\n",
        "print(cm)\n",
        "\n",
        "## acc\n",
        "#print(f'accuracy global: {(cm[0,0]+cm[1,1]+cm[2,2]+cm[3,3])/(cm.sum())}')\n",
        "print(f'accuracy global: {(cm[0,0]+cm[1,1]+cm[2,2])/(cm.sum())}') # 2 classes\n",
        "\n",
        "# acc neg, acc pos\n",
        "print(f'accuracy on class 0: {cm[0,0]/(cm.sum(1)[0])*100}') \n",
        "print(f'accuracy on class 1: {cm[1,1]/(cm.sum(1)[1])*100}')\n",
        "print(f'accuracy on class 2: {cm[2,2]/(cm.sum(1)[2])*100}')\n",
        "#print(f'accuracy on class 3: {cm[3,3]/(cm.sum(1)[3])*100}')\n",
        "\n"
      ],
      "execution_count": 55,
      "outputs": [
        {
          "output_type": "stream",
          "text": [
            "[[ 610    2   21]\n",
            " [   8 2140   10]\n",
            " [   8    0 1106]]\n",
            "accuracy global: 0.9874519846350832\n",
            "accuracy on class 0: 96.36650868878357\n",
            "accuracy on class 1: 99.16589434661724\n",
            "accuracy on class 2: 99.2818671454219\n"
          ],
          "name": "stdout"
        }
      ]
    },
    {
      "cell_type": "code",
      "metadata": {
        "id": "J-yvfal-RgK0",
        "colab_type": "code",
        "outputId": "8fb4fbab-807c-4af1-c7d0-96f52eae5ead",
        "colab": {
          "base_uri": "https://localhost:8080/",
          "height": 34
        }
      },
      "source": [
        "print ('F1 score:', f1_score(y, predictions,average='weighted'))"
      ],
      "execution_count": 56,
      "outputs": [
        {
          "output_type": "stream",
          "text": [
            "F1 score: 0.9874657147496316\n"
          ],
          "name": "stdout"
        }
      ]
    },
    {
      "cell_type": "code",
      "metadata": {
        "id": "dvut4H_aSpiO",
        "colab_type": "code",
        "outputId": "618b7429-e003-42f7-83c4-e7c40d506373",
        "colab": {
          "base_uri": "https://localhost:8080/",
          "height": 34
        }
      },
      "source": [
        "preds,targs = learn_c.get_preds(ordered=True)\n",
        "accuracy(preds,targs),f1(preds,targs)"
      ],
      "execution_count": 57,
      "outputs": [
        {
          "output_type": "display_data",
          "data": {
            "text/html": [
              ""
            ],
            "text/plain": [
              "<IPython.core.display.HTML object>"
            ]
          },
          "metadata": {
            "tags": []
          }
        },
        {
          "output_type": "execute_result",
          "data": {
            "text/plain": [
              "(tensor(0.9875), tensor(0.9875))"
            ]
          },
          "metadata": {
            "tags": []
          },
          "execution_count": 57
        }
      ]
    },
    {
      "cell_type": "code",
      "metadata": {
        "id": "YBnU-4ye5Bti",
        "colab_type": "code",
        "outputId": "587d8f75-f30d-4245-bc96-6dc99b51368a",
        "colab": {
          "base_uri": "https://localhost:8080/",
          "height": 359
        }
      },
      "source": [
        "learn_c.show_results(rows=10, max_len=25)"
      ],
      "execution_count": 58,
      "outputs": [
        {
          "output_type": "display_data",
          "data": {
            "text/html": [
              "<table border=\"1\" class=\"dataframe\">\n",
              "  <thead>\n",
              "    <tr style=\"text-align: right;\">\n",
              "      <th>text</th>\n",
              "      <th>target</th>\n",
              "      <th>prediction</th>\n",
              "    </tr>\n",
              "  </thead>\n",
              "  <tbody>\n",
              "    <tr>\n",
              "      <td>▁xxbos ▁: ▁لم ▁أ زل ▁حر ي صا ▁على ▁أن ▁أ سأل ▁عمر ▁رضي ▁الله ▁عنه ▁عن ▁المر أت ين ▁من ▁أزواج ▁النبي ▁صلى ▁الله</td>\n",
              "      <td>1</td>\n",
              "      <td>1</td>\n",
              "    </tr>\n",
              "    <tr>\n",
              "      <td>▁xxbos ▁الله ▁عليه ▁وسلم ▁تلك ▁الغزو ة ▁حين ▁طا بت ▁الث مار ▁وال ظل ال ▁وت جهز ▁رسول ▁الله ▁صلى ▁الله ▁عليه ▁و ▁سلم ▁والم</td>\n",
              "      <td>1</td>\n",
              "      <td>1</td>\n",
              "    </tr>\n",
              "    <tr>\n",
              "      <td>▁xxbos ▁قرأ ت ▁ &lt;unk&gt; ▁أرد ت ▁أن ▁ت قرأ ▁. ▁ &lt;unk&gt; ▁قصد ▁السبيل ▁ &lt;unk&gt; ▁البيان ▁وال ه دا ية ▁إلى ▁الطريق ▁المستقيم</td>\n",
              "      <td>1</td>\n",
              "      <td>1</td>\n",
              "    </tr>\n",
              "    <tr>\n",
              "      <td>▁xxbos ▁: ▁قل نا ▁يا ▁رسول ▁الله ▁هل ▁نرى ▁رب نا ▁يوم ▁القيام ة ▁؟ ▁قال ▁ &lt;unk&gt; ▁هل ▁ت ضار ون ▁في ▁رؤية ▁الشمس</td>\n",
              "      <td>1</td>\n",
              "      <td>1</td>\n",
              "    </tr>\n",
              "    <tr>\n",
              "      <td>▁xxbos ▁: ▁عن ▁النبي ▁صلى ▁الله ▁عليه ▁و ▁سلم ▁ &lt;unk&gt; ▁أن ▁موسى ▁قام ▁خط يب ا ▁في ▁بني ▁إسرائيل ▁ف سئل ▁أي ▁الناس ▁أ</td>\n",
              "      <td>1</td>\n",
              "      <td>1</td>\n",
              "    </tr>\n",
              "    <tr>\n",
              "      <td>▁xxbos ▁: ▁م كث ت ▁سنة ▁أر يد ▁أن ▁أ سأل ▁عمر ▁بن ▁الخطاب ▁عن ▁آ ية ▁فما ▁أست طيع ▁أن ▁أ سأل ه ▁هي</td>\n",
              "      <td>1</td>\n",
              "      <td>1</td>\n",
              "    </tr>\n",
              "    <tr>\n",
              "      <td>▁xxbos ▁ &lt;unk&gt; ▁ب ذي ▁الحل يفة ▁ &lt;unk&gt; ▁اسم ▁موضع ▁قريب ▁من ▁المدينة ▁ويسمى ▁الآن ▁آ بار ▁علي ▁وهو ▁م يق ات ▁أهل ▁المدينة</td>\n",
              "      <td>1</td>\n",
              "      <td>1</td>\n",
              "    </tr>\n",
              "    <tr>\n",
              "      <td>▁xxbos ▁: ▁بعث ني ▁رسول ▁الله ▁صلى ▁الله ▁عليه ▁و ▁سلم ▁والز بير ▁وأب ا ▁م رث د ▁وكل نا ▁فارس ▁قال ▁ &lt;unk&gt; ▁ان</td>\n",
              "      <td>1</td>\n",
              "      <td>1</td>\n",
              "    </tr>\n",
              "    <tr>\n",
              "      <td>▁xxbos ▁ &lt;unk&gt; ▁الآ يات ▁ &lt;unk&gt; ▁وهي ▁قول ▁الله ▁تع إ لى ▁ &lt;unk&gt; ▁هذا ن ▁خص مان ▁اخت صم وا ▁في ▁رب هم</td>\n",
              "      <td>1</td>\n",
              "      <td>1</td>\n",
              "    </tr>\n",
              "    <tr>\n",
              "      <td>▁xxbos ▁وكان ▁ابن ▁النا طور ▁صاحب ▁إيلي اء ▁و هر قل ▁أسقف ا ▁على ▁ن صار ى ▁الش أم ▁يحدث ▁أن ▁هر قل ▁حين ▁قدم</td>\n",
              "      <td>1</td>\n",
              "      <td>1</td>\n",
              "    </tr>\n",
              "  </tbody>\n",
              "</table>"
            ],
            "text/plain": [
              "<IPython.core.display.HTML object>"
            ]
          },
          "metadata": {
            "tags": []
          }
        }
      ]
    },
    {
      "cell_type": "code",
      "metadata": {
        "id": "q6XT_Lzr5GMy",
        "colab_type": "code",
        "outputId": "131c0786-69cf-4194-eb9f-0629c054a014",
        "colab": {
          "base_uri": "https://localhost:8080/",
          "height": 68
        }
      },
      "source": [
        "# predict random stuff \n",
        "test_text =  \"عن ابن مسعود قال: قرأت على رسول الله من سورة النساء\" # Hadith (category 1)\n",
        "pred = learn_c.predict(test_text)\n",
        "print(pred)\n",
        "test_text = \"لا تنه عن خلق وتأتي مثله عار عليك إذا فعلت عظيم\" # Poetry (cataegory 2)\n",
        "pred = learn_c.predict(test_text)\n",
        "print(pred)\n",
        "test_text =\"أذن للذين يقاتلون بأنهم ظلموا وإن الله على نصرهم لقدير\" # Qur'an (category 0)\n",
        "pred = learn_c.predict(test_text)\n",
        "print(pred)"
      ],
      "execution_count": 59,
      "outputs": [
        {
          "output_type": "stream",
          "text": [
            "(Category 1, tensor(1), tensor([0.0141, 0.9771, 0.0089]))\n",
            "(Category 2, tensor(2), tensor([0.2129, 0.0691, 0.7180]))\n",
            "(Category 0, tensor(0), tensor([0.8981, 0.0119, 0.0900]))\n"
          ],
          "name": "stdout"
        }
      ]
    },
    {
      "cell_type": "code",
      "metadata": {
        "id": "ONTwDqyDawoK",
        "colab_type": "code",
        "outputId": "bcae06d1-a0dd-4182-a8bf-42164e343a33",
        "colab": {
          "base_uri": "https://localhost:8080/",
          "height": 34
        }
      },
      "source": [
        "# Get the prediction +ve\n",
        "test_text = \"قفا نبك من ذكرى حبيب ومنزل بسقط اللوى بين الدخول فحومل\"\n",
        "pred = learn_c.predict(test_text)\n",
        "print(pred)"
      ],
      "execution_count": 60,
      "outputs": [
        {
          "output_type": "stream",
          "text": [
            "(Category 2, tensor(2), tensor([0.0359, 0.0308, 0.9333]))\n"
          ],
          "name": "stdout"
        }
      ]
    },
    {
      "cell_type": "code",
      "metadata": {
        "id": "v1P1ImIscOL-",
        "colab_type": "code",
        "outputId": "393ddb31-0a12-4575-e447-eb1799d8a211",
        "colab": {
          "base_uri": "https://localhost:8080/",
          "height": 34
        }
      },
      "source": [
        "# The darker the word-shading in the below example, the more it contributes to the classification. \n",
        "txt_ci = TextClassificationInterpretation.from_learner(learn_c)\n",
        "txt_ci.show_intrinsic_attention(test_text,cmap=plt.cm.Purples)"
      ],
      "execution_count": 61,
      "outputs": [
        {
          "output_type": "display_data",
          "data": {
            "text/html": [
              ""
            ],
            "text/plain": [
              "<IPython.core.display.HTML object>"
            ]
          },
          "metadata": {
            "tags": []
          }
        },
        {
          "output_type": "display_data",
          "data": {
            "text/html": [
              "<span style=\"font-family: monospace;\"><span title=\"0.302\" style=\"background-color: rgba(205, 205, 228, 0.5);\">▁xxbos</span> <span title=\"0.567\" style=\"background-color: rgba(141, 138, 192, 0.5);\">▁ق</span> <span title=\"0.261\" style=\"background-color: rgba(215, 215, 233, 0.5);\">فا</span> <span title=\"0.285\" style=\"background-color: rgba(209, 209, 230, 0.5);\">▁ن</span> <span title=\"0.351\" style=\"background-color: rgba(194, 195, 223, 0.5);\">بك</span> <span title=\"0.182\" style=\"background-color: rgba(229, 228, 240, 0.5);\">▁من</span> <span title=\"0.347\" style=\"background-color: rgba(195, 195, 223, 0.5);\">▁ذكر</span> <span title=\"0.271\" style=\"background-color: rgba(213, 213, 232, 0.5);\">ى</span> <span title=\"0.301\" style=\"background-color: rgba(206, 206, 229, 0.5);\">▁حبيب</span> <span title=\"0.194\" style=\"background-color: rgba(227, 226, 239, 0.5);\">▁ومن</span> <span title=\"0.186\" style=\"background-color: rgba(229, 227, 240, 0.5);\">زل</span> <span title=\"0.222\" style=\"background-color: rgba(223, 222, 237, 0.5);\">▁ب</span> <span title=\"0.483\" style=\"background-color: rgba(162, 158, 202, 0.5);\">سقط</span> <span title=\"0.856\" style=\"background-color: rgba(86, 44, 145, 0.5);\">▁اللو</span> <span title=\"0.182\" style=\"background-color: rgba(229, 228, 240, 0.5);\">ى</span> <span title=\"0.432\" style=\"background-color: rgba(174, 173, 210, 0.5);\">▁بين</span> <span title=\"0.996\" style=\"background-color: rgba(63, 1, 125, 0.5);\">▁الدخول</span> <span title=\"0.442\" style=\"background-color: rgba(171, 169, 209, 0.5);\">▁ف</span> <span title=\"0.360\" style=\"background-color: rgba(191, 192, 221, 0.5);\">ح</span> <span title=\"0.659\" style=\"background-color: rgba(122, 113, 179, 0.5);\">وم</span> <span title=\"1.000\" style=\"background-color: rgba(63, 0, 125, 0.5);\">ل</span></span>"
            ],
            "text/plain": [
              "<IPython.core.display.HTML object>"
            ]
          },
          "metadata": {
            "tags": []
          }
        }
      ]
    },
    {
      "cell_type": "code",
      "metadata": {
        "id": "-ZGIvFsPbciL",
        "colab_type": "code",
        "outputId": "bddf63df-4330-4d3b-9b0a-6a06f4f22197",
        "colab": {
          "base_uri": "https://localhost:8080/",
          "height": 68
        }
      },
      "source": [
        "txt_ci.intrinsic_attention(test_text)[1]"
      ],
      "execution_count": 62,
      "outputs": [
        {
          "output_type": "execute_result",
          "data": {
            "text/plain": [
              "tensor([0.3022, 0.5670, 0.2609, 0.2854, 0.3506, 0.1820, 0.3466, 0.2714, 0.3006,\n",
              "        0.1942, 0.1856, 0.2220, 0.4827, 0.8558, 0.1818, 0.4319, 0.9958, 0.4419,\n",
              "        0.3595, 0.6586, 1.0000], device='cuda:0')"
            ]
          },
          "metadata": {
            "tags": []
          },
          "execution_count": 62
        }
      ]
    },
    {
      "cell_type": "code",
      "metadata": {
        "id": "D4kdOlnv-ilW",
        "colab_type": "code",
        "outputId": "749719ca-bd8c-4f7c-901a-cfbf3f538a0d",
        "colab": {
          "base_uri": "https://localhost:8080/",
          "height": 34
        }
      },
      "source": [
        "import sentencepiece as spm\n",
        "s = spm.SentencePieceProcessor()\n",
        "s.Load('/root/.fastai/data/arwiki/corpus2_100/tmp/spm.model')"
      ],
      "execution_count": 63,
      "outputs": [
        {
          "output_type": "execute_result",
          "data": {
            "text/plain": [
              "True"
            ]
          },
          "metadata": {
            "tags": []
          },
          "execution_count": 63
        }
      ]
    },
    {
      "cell_type": "code",
      "metadata": {
        "id": "-CDTdkWV-UGF",
        "colab_type": "code",
        "outputId": "e6dc7293-e0e2-4c10-dcd8-a59cca754d2b",
        "colab": {
          "base_uri": "https://localhost:8080/",
          "height": 34
        }
      },
      "source": [
        "s.decode_pieces(\"▁xxbos ▁ق فا ▁ن بك ▁من ▁ذكر ى ▁حبيب ▁ومن زل ▁ب سقط ▁اللو ى ▁بين ▁الدخول ▁ف ح وم ل\".split())"
      ],
      "execution_count": 64,
      "outputs": [
        {
          "output_type": "execute_result",
          "data": {
            "text/plain": [
              "'xxbos قفا نبك من ذكرى حبيب ومنزل بسقط اللوى بين الدخول فحومل'"
            ]
          },
          "metadata": {
            "tags": []
          },
          "execution_count": 64
        }
      ]
    },
    {
      "cell_type": "code",
      "metadata": {
        "id": "gKQjTV8Pi0T7",
        "colab_type": "code",
        "outputId": "35e44e78-fab5-4653-ad41-610a647c8ba3",
        "colab": {
          "base_uri": "https://localhost:8080/",
          "height": 204
        }
      },
      "source": [
        "# tabulation showing the first k texts in top_losses along with their prediction, actual,loss, and probability of actual class.\n",
        "# max_len is the maximum number of tokens displayed. If max_len=None, it will display all tokens.\n",
        "txt_ci.show_top_losses(5, max_len=20)"
      ],
      "execution_count": 65,
      "outputs": [
        {
          "output_type": "display_data",
          "data": {
            "text/html": [
              "<table border=\"1\" class=\"dataframe\">\n",
              "  <thead>\n",
              "    <tr style=\"text-align: right;\">\n",
              "      <th>Text</th>\n",
              "      <th>Prediction</th>\n",
              "      <th>Actual</th>\n",
              "      <th>Loss</th>\n",
              "      <th>Probability</th>\n",
              "    </tr>\n",
              "  </thead>\n",
              "  <tbody>\n",
              "    <tr>\n",
              "      <td>▁xxbos ▁ &lt;unk&gt; ▁ &lt;unk&gt; ▁حدث نا ▁عمرو ▁بن ▁محمد ▁حدث نا ▁يعقوب ▁بن ▁إبراهيم ▁حدث نا ▁أبي ▁عن ▁صالح</td>\n",
              "      <td>2</td>\n",
              "      <td>1</td>\n",
              "      <td>3.04</td>\n",
              "      <td>0.06</td>\n",
              "    </tr>\n",
              "    <tr>\n",
              "      <td>▁xxbos ▁: ▁كنا ▁م حاصر ي ▁خ ي بر ▁فر مى ▁إنسان ▁بج راب ▁في ه ▁ش حم ▁فن زو</td>\n",
              "      <td>0</td>\n",
              "      <td>1</td>\n",
              "      <td>3.02</td>\n",
              "      <td>0.05</td>\n",
              "    </tr>\n",
              "    <tr>\n",
              "      <td>▁xxbos ▁قال ▁ف حفظ ت ▁ذاك ▁من ▁ال زهر ي ▁إن ▁جاءت ▁به ▁ك ذا ▁وكذا ▁فهو ▁وإن ▁جاءت ▁به</td>\n",
              "      <td>2</td>\n",
              "      <td>1</td>\n",
              "      <td>2.88</td>\n",
              "      <td>0.06</td>\n",
              "    </tr>\n",
              "    <tr>\n",
              "      <td>▁xxbos ▁لم ▁يقل ▁يونس ▁وابن ▁جر يج ▁عن ▁ال زهر ي ▁فصل ى ▁عليه</td>\n",
              "      <td>2</td>\n",
              "      <td>1</td>\n",
              "      <td>2.79</td>\n",
              "      <td>0.06</td>\n",
              "    </tr>\n",
              "    <tr>\n",
              "      <td>▁xxbos ▁وإن ي ▁م رسل ة ▁إليهم ▁به دية ▁ف ناظر ة ▁بم ▁يرجع ▁المرسل ون</td>\n",
              "      <td>2</td>\n",
              "      <td>0</td>\n",
              "      <td>2.71</td>\n",
              "      <td>0.07</td>\n",
              "    </tr>\n",
              "  </tbody>\n",
              "</table>"
            ],
            "text/plain": [
              "<IPython.core.display.HTML object>"
            ]
          },
          "metadata": {
            "tags": []
          }
        }
      ]
    },
    {
      "cell_type": "code",
      "metadata": {
        "id": "oK6kW_HOi8kn",
        "colab_type": "code",
        "colab": {}
      },
      "source": [
        ""
      ],
      "execution_count": 0,
      "outputs": []
    }
  ]
}